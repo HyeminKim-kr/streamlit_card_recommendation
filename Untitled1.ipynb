{
 "cells": [
  {
   "cell_type": "code",
   "execution_count": null,
   "id": "a6fdd3bf-c873-43b3-873b-b600c447039e",
   "metadata": {},
   "outputs": [],
   "source": [
    "from elasticsearch import Elasticsearch\n",
    "from elasticsearch import helpers\n",
    "import pandas as pd\n",
    "import json\n",
    "\n",
    "def get_stock_info():\n",
    "    base_url =  \"http://kind.krx.co.kr/corpgeneral/corpList.do\"    \n",
    "    method = \"download\"\n",
    "    url = \"{0}?method={1}\".format(base_url, method)   \n",
    "    df = pd.read_html(url, header=0, encoding='euc-kr')[0]\n",
    "    df['종목코드']= df['종목코드'].apply(lambda x: f\"{x:06d}\")     \n",
    "    return df\n",
    "\n",
    "df = get_stock_info()"
   ]
  },
  {
   "cell_type": "code",
   "execution_count": null,
   "id": "94aa3cb3-0ef2-4bd0-b116-0494f1fe7743",
   "metadata": {},
   "outputs": [],
   "source": [
    "df = get_stock_info()"
   ]
  },
  {
   "cell_type": "code",
   "execution_count": 12,
   "id": "a85b1224-1f48-42d1-b87a-fd0c811eb2f0",
   "metadata": {},
   "outputs": [],
   "source": []
  },
  {
   "cell_type": "code",
   "execution_count": null,
   "id": "72c838bb-2d1a-4623-b922-92955b7be830",
   "metadata": {},
   "outputs": [],
   "source": [
    "df"
   ]
  },
  {
   "cell_type": "code",
   "execution_count": null,
   "id": "fd49dcf9-0232-4e8a-8b86-7967fda62636",
   "metadata": {},
   "outputs": [],
   "source": [
    "json_str = df.to_json(orient='records')\n",
    "\n",
    "json_records = json.loads(json_str)\n",
    "\n",
    "es = Elasticsearch(\"http://localhost:9200\", http_compress=True)\n",
    "index_name = 'stock_info'\n",
    "doctype = 'stock_record'\n",
    "es.indices.delete(index=index_name, ignore=[400, 404])\n",
    "es.indices.create(index=index_name, ignore=400)\n",
    "action_list = []\n",
    "for row in json_records:\n",
    "    record ={\n",
    "        '_op_type': 'index',\n",
    "        '_index': index_name,\n",
    "        '_source': row\n",
    "    }\n",
    "    action_list.append(record)\n",
    "helpers.bulk(es, action_list)"
   ]
  },
  {
   "cell_type": "code",
   "execution_count": 3,
   "id": "257a0845-8ceb-4d8e-988c-df11eb898d06",
   "metadata": {},
   "outputs": [
    {
     "name": "stdout",
     "output_type": "stream",
     "text": [
      "                      결산월                     대표자명        상장일  \\\n",
      "xnU4bpEBWQK2YaiT2t3W  12월                      민승배 2017-12-08   \n",
      "x3U4bpEBWQK2YaiT2t3W  12월                      류영식 1976-05-21   \n",
      "yHU4bpEBWQK2YaiT2t3W  12월       구자용, 천정식 (각자 대표이사) 1997-08-27   \n",
      "yXU4bpEBWQK2YaiT2t3W  12월  최익훈, 김회언, 조태제 (각자 대표이사) 2018-06-12   \n",
      "ynU4bpEBWQK2YaiT2t3W  12월                      이기동 2024-05-08   \n",
      "\n",
      "                                            업종    종목코드  \\\n",
      "xnU4bpEBWQK2YaiT2t3W                    종합 소매업  282330   \n",
      "x3U4bpEBWQK2YaiT2t3W                  고무제품 제조업  004840   \n",
      "yHU4bpEBWQK2YaiT2t3W                 기타 전문 도매업  017940   \n",
      "yXU4bpEBWQK2YaiT2t3W                    건물 건설업  294870   \n",
      "ynU4bpEBWQK2YaiT2t3W  건축기술, 엔지니어링 및 관련 기술 서비스업  443060   \n",
      "\n",
      "                                                            주요제품     지역  \\\n",
      "xnU4bpEBWQK2YaiT2t3W                                     체인화 편의점  서울특별시   \n",
      "x3U4bpEBWQK2YaiT2t3W           고무벨트(V벨트,콘베이어벨트,평벨트),프라스틱제품 제조,판매  부산광역시   \n",
      "yHU4bpEBWQK2YaiT2t3W                        LPG(프로판,부탄가스),가스기기판매  서울특별시   \n",
      "yXU4bpEBWQK2YaiT2t3W                      외주주택, 자체공사, 일반건축, 토목 등  서울특별시   \n",
      "ynU4bpEBWQK2YaiT2t3W  AM(After Market) 솔루션, 친환경 Retrofit, 디지털 제어  부산광역시   \n",
      "\n",
      "                                                   홈페이지        회사명  \n",
      "xnU4bpEBWQK2YaiT2t3W           http://www.bgfretail.com     BGF리테일  \n",
      "x3U4bpEBWQK2YaiT2t3W            http://www.drbworld.com      DRB동일  \n",
      "yHU4bpEBWQK2YaiT2t3W                http://www.e1.co.kr         E1  \n",
      "yXU4bpEBWQK2YaiT2t3W             http://www.hdc-dvp.com  HDC현대산업개발  \n",
      "ynU4bpEBWQK2YaiT2t3W  http://www.hd-marinesolution.com/  HD현대마린솔루션  \n",
      "\n",
      "[5 rows x 9 columns]\n"
     ]
    }
   ],
   "source": [
    "# conda create --name myenv python=3.11\n",
    "# conda activate myenv\n",
    "# python elasticsearch_eland_test.py\n",
    "import eland as ed\n",
    "\n",
    "df = ed.DataFrame(es_client=\"http://localhost:9200\",\n",
    "    es_index_pattern=\"stock_info\")\n",
    "\n",
    "print(df.head())\n",
    "\n",
    "\n",
    "# pip install eland jupyterlab ipykernel\n",
    "# python -m ipykernel install --user --name=myenv --display-name \"Python (myenv)\"\n"
   ]
  },
  {
   "cell_type": "code",
   "execution_count": null,
   "id": "3eb244b3-37c3-4356-a8a5-6d0c8f658dbb",
   "metadata": {},
   "outputs": [],
   "source": []
  },
  {
   "cell_type": "code",
   "execution_count": null,
   "id": "38e7efe5-a0be-475e-93e6-d6d48ead29e9",
   "metadata": {},
   "outputs": [],
   "source": []
  },
  {
   "cell_type": "code",
   "execution_count": null,
   "id": "fa09f6bd-be97-4ffa-b46c-d0b30d0f0b86",
   "metadata": {},
   "outputs": [],
   "source": []
  },
  {
   "cell_type": "code",
   "execution_count": null,
   "id": "93a21107-d2ba-4106-a21c-ab36480dcd4d",
   "metadata": {},
   "outputs": [],
   "source": []
  }
 ],
 "metadata": {
  "kernelspec": {
   "display_name": "Python (myenv)",
   "language": "python",
   "name": "myenv"
  },
  "language_info": {
   "codemirror_mode": {
    "name": "ipython",
    "version": 3
   },
   "file_extension": ".py",
   "mimetype": "text/x-python",
   "name": "python",
   "nbconvert_exporter": "python",
   "pygments_lexer": "ipython3",
   "version": "3.11.9"
  }
 },
 "nbformat": 4,
 "nbformat_minor": 5
}
